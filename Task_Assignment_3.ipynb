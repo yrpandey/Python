{
 "cells": [
  {
   "cell_type": "code",
   "execution_count": 1,
   "metadata": {},
   "outputs": [
    {
     "name": "stdout",
     "output_type": "stream",
     "text": [
      "Write a function to compute 5/0 and use try/except to catch the exceptions.\n"
     ]
    }
   ],
   "source": [
    "print(\"Write a function to compute 5/0 and use try/except to catch the exceptions.\")"
   ]
  },
  {
   "cell_type": "code",
   "execution_count": 9,
   "metadata": {},
   "outputs": [
    {
     "name": "stdout",
     "output_type": "stream",
     "text": [
      "Error: Cannot be divisible by zero\n"
     ]
    }
   ],
   "source": [
    "try:\n",
    "    div = 5/0\n",
    "    print(div)\n",
    "except:\n",
    "    print(\"Error: Cannot be divisible by zero\")\n"
   ]
  },
  {
   "cell_type": "code",
   "execution_count": 2,
   "metadata": {},
   "outputs": [
    {
     "ename": "SyntaxError",
     "evalue": "invalid syntax (<ipython-input-2-7a9dbf880845>, line 1)",
     "output_type": "error",
     "traceback": [
      "\u001b[1;36m  File \u001b[1;32m\"<ipython-input-2-7a9dbf880845>\"\u001b[1;36m, line \u001b[1;32m1\u001b[0m\n\u001b[1;33m    print(\"Implement a Python program to generate all sentences where subject is in [\"Americans\", \\\u001b[0m\n\u001b[1;37m                                                                                              ^\u001b[0m\n\u001b[1;31mSyntaxError\u001b[0m\u001b[1;31m:\u001b[0m invalid syntax\n"
     ]
    }
   ],
   "source": [
    "print(\"Implement a Python program to generate all sentences where subject is in [\"Americans\", \\\n",
    "\"Indians\"] and verb is in [\"Play\", \"watch\"] and the object is in [\"Baseball\",\"cricket\"].\\\n",
    "Hint: Subject,Verb and Object should be declared in the program as shown below.\\\n",
    "subjects=[\"Americans \",\"Indians\"] \\\n",
    "verbs=[\"play\",\"watch\"] \\\n",
    "objects=[\"Baseball\",\"Cricket\"]\\ \n",
    "Output should come as below:\\\n",
    "Americans play Baseball.\\\n",
    "Americans play Cricket.\\\n",
    "Americans watch Baseball.\\\n",
    "Americans watch Cricket.\\\n",
    "Indians play Baseball.\\\n",
    "Indians play Cricket.\\\n",
    "Indians watch Baseball.\\\n",
    "Indians watch Cricket.\")\n"
   ]
  },
  {
   "cell_type": "code",
   "execution_count": 22,
   "metadata": {},
   "outputs": [
    {
     "name": "stdout",
     "output_type": "stream",
     "text": [
      "Americans  play Baseball .\n",
      "Americans  play Cricket .\n",
      "Americans  watch Baseball .\n",
      "Americans  watch Cricket .\n",
      "Indians play Baseball .\n",
      "Indians play Cricket .\n",
      "Indians watch Baseball .\n",
      "Indians watch Cricket .\n"
     ]
    }
   ],
   "source": [
    "def genrate_possible_sentence(sub,verb,obj):\n",
    "    subject_length=len(sub)\n",
    "    verbs_length=len(verb)\n",
    "    object_length=len(obj)\n",
    "    for s in sub:\n",
    "        for v in verbs:\n",
    "            for o in obj:\n",
    "                s1=\"\".join(s)\n",
    "                s2=\"\".join(v)\n",
    "                s3=\"\".join(o)                \n",
    "                print(s1,s2,s3,'.')\n",
    "                #break\n",
    "subjects=[\"Americans \",\"Indians\"]\n",
    "verbs=[\"play\",\"watch\"]\n",
    "objects=[\"Baseball\",\"Cricket\"]\n",
    "genrate_possible_sentence(subjects,verbs,objects)"
   ]
  },
  {
   "cell_type": "code",
   "execution_count": null,
   "metadata": {},
   "outputs": [],
   "source": [
    "print(\"Write a function so that the columns of the output matrix are powers of the input vector.\\\n",
    "The order of the powers is determined by the increasing boolean argument. Specifically, when \\\n",
    "increasing is False, the i-th output column is the input vector raised element-wise to the power\\\n",
    "of N - i - 1.\\\n",
    "HINT: Such a matrix with a geometric progression in each row is named for Alexandre-\\\n",
    "Theophile Vandermonde.\\\n",
    "NOTE: The solution shared through Github should contain the source code used and the\\\n",
    "screenshot of the output.\")"
   ]
  },
  {
   "cell_type": "code",
   "execution_count": null,
   "metadata": {},
   "outputs": [],
   "source": [
    "print(\"Need you help, could not able\")"
   ]
  }
 ],
 "metadata": {
  "kernelspec": {
   "display_name": "Python 3",
   "language": "python",
   "name": "python3"
  },
  "language_info": {
   "codemirror_mode": {
    "name": "ipython",
    "version": 3
   },
   "file_extension": ".py",
   "mimetype": "text/x-python",
   "name": "python",
   "nbconvert_exporter": "python",
   "pygments_lexer": "ipython3",
   "version": "3.7.0"
  }
 },
 "nbformat": 4,
 "nbformat_minor": 2
}
