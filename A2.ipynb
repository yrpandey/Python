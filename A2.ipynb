{
 "cells": [
  {
   "cell_type": "code",
   "execution_count": 1,
   "metadata": {},
   "outputs": [
    {
     "name": "stdout",
     "output_type": "stream",
     "text": [
      "Write a Python Program to implement your own myreduce() function which works exactly like Python's built-in function reduce()\n"
     ]
    }
   ],
   "source": [
    "print(\"Write a Python Program to implement your own myreduce() function which works exactly like \\\n",
    "Python's built-in function reduce()\")"
   ]
  },
  {
   "cell_type": "code",
   "execution_count": 10,
   "metadata": {},
   "outputs": [
    {
     "name": "stdout",
     "output_type": "stream",
     "text": [
      "Custom reduce function-myreduce() same as built-in 13\n"
     ]
    }
   ],
   "source": [
    "def myreduce(cfunc, sequence):\n",
    "    result = sequence[0]\n",
    "    #print(result)\n",
    "    for i in sequence[1:]:\n",
    "       # print(\"P \",i)\n",
    "        result = cfunc(result, i)\n",
    "    return result\n",
    "def add(x,y): return x + y\n",
    "\n",
    "print (\"Custom reduce function-myreduce() same as built-in \"   + str(myreduce(add, [7,2,4])) )"
   ]
  },
  {
   "cell_type": "code",
   "execution_count": 11,
   "metadata": {},
   "outputs": [
    {
     "name": "stdout",
     "output_type": "stream",
     "text": [
      "Write a Python program to implement your own myfilter() function which works exactly like Python's built-in function filter()\n"
     ]
    }
   ],
   "source": [
    "print(\"Write a Python program to implement your own myfilter() function which works exactly like \\\n",
    "Python's built-in function filter()\")"
   ]
  },
  {
   "cell_type": "code",
   "execution_count": 19,
   "metadata": {},
   "outputs": [
    {
     "data": {
      "text/plain": [
       "[2, 4, 6, 8]"
      ]
     },
     "execution_count": 19,
     "metadata": {},
     "output_type": "execute_result"
    }
   ],
   "source": [
    "def myfilter(even_check, lst):\n",
    "    result = []\n",
    "    #print(result)\n",
    "    for i in lst:\n",
    "        if even_check(i):\n",
    "            result.append(i)        \n",
    "    return result\n",
    "\n",
    "def even_check(num):\n",
    "    if num%2 ==0:\n",
    "        return True\n",
    "lst =[1,2,3,4,5,6,7,8]\n",
    "\n",
    "list(myfilter(even_check,lst))"
   ]
  },
  {
   "cell_type": "code",
   "execution_count": null,
   "metadata": {},
   "outputs": [],
   "source": [
    "\"\"\" Implement List comprehensions to produce the following lists.\n",
    "Write List comprehensions to produce the following Lists \\\n",
    "      \n",
    "['A', 'C', 'A', 'D', 'G', 'I', ’L’, ‘ D’] \\\n",
    "['x', 'xx', 'xxx', 'xxxx', 'y', 'yy', 'yyy', 'yyyy', 'z', 'zz', 'zzz', 'zzzz'] \\\n",
    "['x', 'y', 'z', 'xx', 'yy', 'zz', 'xx', 'yy', 'zz', 'xxxx', 'yyyy', 'zzzz'] \\\n",
    "[[2], [3], [4], [3], [4], [5], [4], [5], [6]] \\\n",
    "[[2, 3, 4, 5], [3, 4, 5, 6], [4, 5, 6, 7], [5, 6, 7, 8]] \\\n",
    "[(1, 1), (2, 1), (3, 1), (1, 2), (2, 2), (3, 2), (1, 3), (2, 3), (3, 3)]\")\"\"\""
   ]
  },
  {
   "cell_type": "code",
   "execution_count": 20,
   "metadata": {},
   "outputs": [
    {
     "name": "stdout",
     "output_type": "stream",
     "text": [
      "Implement a function longestWord() that takes a list of words and returns the longest one.\n"
     ]
    }
   ],
   "source": [
    "print(\"Implement a function longestWord() that takes a list of words and returns the longest one.\")"
   ]
  },
  {
   "cell_type": "code",
   "execution_count": 31,
   "metadata": {},
   "outputs": [
    {
     "name": "stdout",
     "output_type": "stream",
     "text": [
      "Enter sentence: \n",
      "dev raj pandey asertyt\n",
      "7\n"
     ]
    }
   ],
   "source": [
    "import re\n",
    "print(\"Enter sentence: \")\n",
    "st=input()\n",
    "lst=re.findall(r'\\w+', st)\n",
    "lt=[]\n",
    "for item in lst:\n",
    "    lt.append(len(item))\n",
    "print(max(lt))\n",
    "    \n",
    "\n",
    "#def longestWord(lst):\n",
    "    "
   ]
  },
  {
   "cell_type": "code",
   "execution_count": 32,
   "metadata": {},
   "outputs": [
    {
     "name": "stdout",
     "output_type": "stream",
     "text": [
      "Write a Python Program(with class concepts) to find the area of the triangle using the below formula. area = (s*(s-a)*(s-b)*(s-c)) ** 0.5 Function to take the length of the sides of triangle from user should be defined in the parent class and function to calculate the area should be defined in subclass.\n"
     ]
    }
   ],
   "source": [
    "print(\"Write a Python Program(with class concepts) to find the area of the triangle using the below \\\n",
    "formula. \\\n",
    "area = (s*(s-a)*(s-b)*(s-c)) ** 0.5 \\\n",
    "Function to take the length of the sides of triangle from user should be defined in the parent \\\n",
    "class and function to calculate the area should be defined in subclass.\")"
   ]
  },
  {
   "cell_type": "code",
   "execution_count": 14,
   "metadata": {},
   "outputs": [
    {
     "name": "stdout",
     "output_type": "stream",
     "text": [
      "89.48742928478838\n"
     ]
    }
   ],
   "source": [
    "class triangleSides:\n",
    "    def __init__(self, a, b,c):\n",
    "        self.a = a\n",
    "        self.b = b\n",
    "        self.c = c\n",
    "    \n",
    "    #return a,b,c\n",
    "class calculate(triangleSides):\n",
    "    #print(a)\n",
    "    def calculateArea(self):\n",
    "        a=self.a\n",
    "        b=self.b\n",
    "        c=self.c\n",
    "        s=a+b+c\n",
    "        area=(s*(s-a)*(s-b)*(s-c))**0.5\n",
    "        print(area)\n",
    "    \n",
    "\n",
    "mycls=calculate(5,6,2)\n",
    "mycls.calculateArea()\n",
    "#print(mycls.)"
   ]
  },
  {
   "cell_type": "code",
   "execution_count": null,
   "metadata": {},
   "outputs": [],
   "source": [
    "print(\"Write a Python program using function concept that maps list of words into a list of integers \\\n",
    "representing the lengths of the corresponding words .\")"
   ]
  },
  {
   "cell_type": "code",
   "execution_count": 18,
   "metadata": {},
   "outputs": [
    {
     "name": "stdout",
     "output_type": "stream",
     "text": [
      "Enter sentence: \n",
      "my name is\n",
      "Given sentence as list:  ['my', 'name', 'is']\n",
      "All listed words as count [2, 4, 2]\n"
     ]
    }
   ],
   "source": [
    "import re\n",
    "print(\"Enter sentence: \")\n",
    "st=input()\n",
    "lst=re.findall(r'\\w+', st)\n",
    "lt=[]\n",
    "print(\"Given sentence as list: \",lst)\n",
    "for item in lst:\n",
    "    lt.append(len(item))\n",
    "print(\"All listed words as count\",lt)"
   ]
  },
  {
   "cell_type": "code",
   "execution_count": null,
   "metadata": {},
   "outputs": [],
   "source": [
    "print(\"Write a Python function which takes a character (i.e. a string of length 1) and returns True if it is \\\n",
    "a vowel, False otherwise.\")"
   ]
  },
  {
   "cell_type": "code",
   "execution_count": 22,
   "metadata": {},
   "outputs": [
    {
     "name": "stdout",
     "output_type": "stream",
     "text": [
      "False\n"
     ]
    }
   ],
   "source": [
    "import re\n",
    "def checkvowel(st):\n",
    "    vowels = [\"a\", \"e\", \"i\", \"o\", \"u\",\"A\", \"E\", \"I\", \"O\", \"U\"]\n",
    "    ispresent=False\n",
    "    for v in vowels:\n",
    "        if v in st:\n",
    "            ispresent=True\n",
    "    print(ispresent)\n",
    "\n",
    "checkvowel(\"B\")              "
   ]
  },
  {
   "cell_type": "code",
   "execution_count": null,
   "metadata": {},
   "outputs": [],
   "source": []
  }
 ],
 "metadata": {
  "kernelspec": {
   "display_name": "Python 3",
   "language": "python",
   "name": "python3"
  },
  "language_info": {
   "codemirror_mode": {
    "name": "ipython",
    "version": 3
   },
   "file_extension": ".py",
   "mimetype": "text/x-python",
   "name": "python",
   "nbconvert_exporter": "python",
   "pygments_lexer": "ipython3",
   "version": "3.7.0"
  }
 },
 "nbformat": 4,
 "nbformat_minor": 2
}
