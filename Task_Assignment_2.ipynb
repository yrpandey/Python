{
 "cells": [
  {
   "cell_type": "code",
   "execution_count": 1,
   "metadata": {},
   "outputs": [
    {
     "name": "stdout",
     "output_type": "stream",
     "text": [
      "Write a program which accepts a sequence of comma-separated numbers from console and generate a list.\n"
     ]
    }
   ],
   "source": [
    "print(\"Write a program which accepts a sequence of comma-separated numbers from console and \\\n",
    "generate a list.\")"
   ]
  },
  {
   "cell_type": "code",
   "execution_count": 2,
   "metadata": {},
   "outputs": [
    {
     "name": "stdout",
     "output_type": "stream",
     "text": [
      "Enter a sequence of comma-separated numbers\n",
      "4,5,7\n"
     ]
    },
    {
     "data": {
      "text/plain": [
       "['4', ',', '5', ',', '7']"
      ]
     },
     "execution_count": 2,
     "metadata": {},
     "output_type": "execute_result"
    }
   ],
   "source": [
    "print(\"Enter a sequence of comma-separated numbers\")\n",
    "num=input()\n",
    "lst=list(num)\n",
    "lst"
   ]
  },
  {
   "cell_type": "code",
   "execution_count": 4,
   "metadata": {},
   "outputs": [
    {
     "name": "stdout",
     "output_type": "stream",
     "text": [
      "Create the below pattern using nested for loop in Python. * * * * * * * * * * * * * * * * * * * * * * * * *\n"
     ]
    }
   ],
   "source": [
    "print(\"Create the below pattern using nested for loop in Python. \\\n",
    "* \\\n",
    "* * \\\n",
    "* * * \\\n",
    "* * * * \\\n",
    "* * * * * \\\n",
    "* * * * \\\n",
    "* * * \\\n",
    "* * \\\n",
    "*\")"
   ]
  },
  {
   "cell_type": "code",
   "execution_count": 30,
   "metadata": {},
   "outputs": [
    {
     "name": "stdout",
     "output_type": "stream",
     "text": [
      "* \n",
      "* * \n",
      "* * * \n",
      "* * * * \n",
      "* * * * * \n",
      "* * * * \n",
      "* * * \n",
      "* * \n",
      "* \n",
      "\n"
     ]
    }
   ],
   "source": [
    "for i in range(1, 5 + 1):\n",
    "    for j in range(i, 0, -1):\n",
    "        print(\"* \",end=\"\")        \n",
    "    print(\"\")\n",
    "for i in range(1, 5 + 1):\n",
    "    for j in range(i, 5, 1):\n",
    "        print(\"* \",end=\"\")        \n",
    "    print(\"\")\n",
    "    "
   ]
  },
  {
   "cell_type": "code",
   "execution_count": 31,
   "metadata": {},
   "outputs": [
    {
     "name": "stdout",
     "output_type": "stream",
     "text": [
      "Write a Python program to reverse a word after accepting the input from the user.\n"
     ]
    }
   ],
   "source": [
    "print(\"Write a Python program to reverse a word after accepting the input from the user.\")"
   ]
  },
  {
   "cell_type": "code",
   "execution_count": 33,
   "metadata": {},
   "outputs": [
    {
     "name": "stdout",
     "output_type": "stream",
     "text": [
      "Enter any string: \n",
      "AcadGild\n",
      "Reverse string is:  dliGdacA\n"
     ]
    }
   ],
   "source": [
    "print(\"Enter any string: \")\n",
    "st=input()\n",
    "print(\"Reverse string is: \", st[::-1])"
   ]
  },
  {
   "cell_type": "code",
   "execution_count": 35,
   "metadata": {},
   "outputs": [
    {
     "name": "stdout",
     "output_type": "stream",
     "text": [
      "Write a Python Program to print the given string in the format specified in the sample output. WE, THE PEOPLE OF INDIA, having solemnly resolved to constitute India into a SOVEREIGN, SOCIALIST, SECULAR, DEMOCRATIC REPUBLIC and to secure to all its citizens\n"
     ]
    }
   ],
   "source": [
    "print(\"Write a Python Program to print the given string in the format specified in the sample output. \\\n",
    "WE, THE PEOPLE OF INDIA, having solemnly resolved to constitute India into a \\\n",
    "SOVEREIGN, SOCIALIST, SECULAR, DEMOCRATIC REPUBLIC and to secure to all \\\n",
    "its citizens\")"
   ]
  },
  {
   "cell_type": "code",
   "execution_count": 38,
   "metadata": {},
   "outputs": [
    {
     "name": "stdout",
     "output_type": "stream",
     "text": [
      "WE, THE PEOPLE OF INDIA, \n",
      "\t having solemnly resolved to constitute India into aSOVEREIGN,       \n",
      " \t \t SOCIALIST, SECULAR, DEMOCRATIC REPUBLIC \n",
      "\t\t  and to secure to all its citizens\n"
     ]
    }
   ],
   "source": [
    "print(\"WE, THE PEOPLE OF INDIA, \\n\\t having solemnly resolved to constitute India into aSOVEREIGN, \\\n",
    "      \\n \\t \\t SOCIALIST, SECULAR, DEMOCRATIC REPUBLIC \\n\\t\\t  and to secure to all \\\n",
    "its citizens\")"
   ]
  },
  {
   "cell_type": "code",
   "execution_count": null,
   "metadata": {},
   "outputs": [],
   "source": []
  }
 ],
 "metadata": {
  "kernelspec": {
   "display_name": "Python 3",
   "language": "python",
   "name": "python3"
  },
  "language_info": {
   "codemirror_mode": {
    "name": "ipython",
    "version": 3
   },
   "file_extension": ".py",
   "mimetype": "text/x-python",
   "name": "python",
   "nbconvert_exporter": "python",
   "pygments_lexer": "ipython3",
   "version": "3.7.0"
  }
 },
 "nbformat": 4,
 "nbformat_minor": 2
}
